{
  "nbformat": 4,
  "nbformat_minor": 0,
  "metadata": {
    "colab": {
      "name": "Netflix_preprocessing.ipynb",
      "provenance": []
    },
    "kernelspec": {
      "name": "python3",
      "display_name": "Python 3"
    },
    "language_info": {
      "name": "python"
    }
  },
  "cells": [
    {
      "cell_type": "code",
      "source": [
        "from google.colab import drive\n",
        "drive.mount('/content/drive')"
      ],
      "metadata": {
        "colab": {
          "base_uri": "https://localhost:8080/"
        },
        "id": "xmhxzRsolcxX",
        "outputId": "88a5ede3-76ea-4d8e-a623-26ae6c067afe"
      },
      "execution_count": 1,
      "outputs": [
        {
          "output_type": "stream",
          "name": "stdout",
          "text": [
            "Drive already mounted at /content/drive; to attempt to forcibly remount, call drive.mount(\"/content/drive\", force_remount=True).\n"
          ]
        }
      ]
    },
    {
      "cell_type": "markdown",
      "source": [
        "### Importing Dependencies"
      ],
      "metadata": {
        "id": "3LJbJlfFnEct"
      }
    },
    {
      "cell_type": "code",
      "execution_count": 2,
      "metadata": {
        "id": "TTWlOaLLlV2W"
      },
      "outputs": [],
      "source": [
        "import os\n",
        "import pandas as pd\n",
        "import numpy as np\n",
        "import missingno as msno\n",
        "from collections import Counter"
      ]
    },
    {
      "cell_type": "markdown",
      "source": [
        "### Loading data_Netflix"
      ],
      "metadata": {
        "id": "p4m6y4nXnPno"
      }
    },
    {
      "cell_type": "code",
      "source": [
        "netflix_file_path = '/content/drive/MyDrive/netflix_titles.csv'\n",
        "netflix_df = pd.read_csv(netflix_file_path)\n",
        "netflix_df.head(5)"
      ],
      "metadata": {
        "colab": {
          "base_uri": "https://localhost:8080/",
          "height": 704
        },
        "id": "m6RSBlW7luqb",
        "outputId": "47d5c7d4-dd6b-4f1f-c916-44bc0a8d5cc2"
      },
      "execution_count": 3,
      "outputs": [
        {
          "output_type": "execute_result",
          "data": {
            "text/html": [
              "\n",
              "  <div id=\"df-109cd251-19f7-40a9-94d9-940d53fcaaaa\">\n",
              "    <div class=\"colab-df-container\">\n",
              "      <div>\n",
              "<style scoped>\n",
              "    .dataframe tbody tr th:only-of-type {\n",
              "        vertical-align: middle;\n",
              "    }\n",
              "\n",
              "    .dataframe tbody tr th {\n",
              "        vertical-align: top;\n",
              "    }\n",
              "\n",
              "    .dataframe thead th {\n",
              "        text-align: right;\n",
              "    }\n",
              "</style>\n",
              "<table border=\"1\" class=\"dataframe\">\n",
              "  <thead>\n",
              "    <tr style=\"text-align: right;\">\n",
              "      <th></th>\n",
              "      <th>show_id</th>\n",
              "      <th>type</th>\n",
              "      <th>title</th>\n",
              "      <th>director</th>\n",
              "      <th>cast</th>\n",
              "      <th>country</th>\n",
              "      <th>date_added</th>\n",
              "      <th>release_year</th>\n",
              "      <th>rating</th>\n",
              "      <th>duration</th>\n",
              "      <th>listed_in</th>\n",
              "      <th>description</th>\n",
              "    </tr>\n",
              "  </thead>\n",
              "  <tbody>\n",
              "    <tr>\n",
              "      <th>0</th>\n",
              "      <td>s1</td>\n",
              "      <td>Movie</td>\n",
              "      <td>Dick Johnson Is Dead</td>\n",
              "      <td>Kirsten Johnson</td>\n",
              "      <td>NaN</td>\n",
              "      <td>United States</td>\n",
              "      <td>September 25, 2021</td>\n",
              "      <td>2020</td>\n",
              "      <td>PG-13</td>\n",
              "      <td>90 min</td>\n",
              "      <td>Documentaries</td>\n",
              "      <td>As her father nears the end of his life, filmm...</td>\n",
              "    </tr>\n",
              "    <tr>\n",
              "      <th>1</th>\n",
              "      <td>s2</td>\n",
              "      <td>TV Show</td>\n",
              "      <td>Blood &amp; Water</td>\n",
              "      <td>NaN</td>\n",
              "      <td>Ama Qamata, Khosi Ngema, Gail Mabalane, Thaban...</td>\n",
              "      <td>South Africa</td>\n",
              "      <td>September 24, 2021</td>\n",
              "      <td>2021</td>\n",
              "      <td>TV-MA</td>\n",
              "      <td>2 Seasons</td>\n",
              "      <td>International TV Shows, TV Dramas, TV Mysteries</td>\n",
              "      <td>After crossing paths at a party, a Cape Town t...</td>\n",
              "    </tr>\n",
              "    <tr>\n",
              "      <th>2</th>\n",
              "      <td>s3</td>\n",
              "      <td>TV Show</td>\n",
              "      <td>Ganglands</td>\n",
              "      <td>Julien Leclercq</td>\n",
              "      <td>Sami Bouajila, Tracy Gotoas, Samuel Jouy, Nabi...</td>\n",
              "      <td>NaN</td>\n",
              "      <td>September 24, 2021</td>\n",
              "      <td>2021</td>\n",
              "      <td>TV-MA</td>\n",
              "      <td>1 Season</td>\n",
              "      <td>Crime TV Shows, International TV Shows, TV Act...</td>\n",
              "      <td>To protect his family from a powerful drug lor...</td>\n",
              "    </tr>\n",
              "    <tr>\n",
              "      <th>3</th>\n",
              "      <td>s4</td>\n",
              "      <td>TV Show</td>\n",
              "      <td>Jailbirds New Orleans</td>\n",
              "      <td>NaN</td>\n",
              "      <td>NaN</td>\n",
              "      <td>NaN</td>\n",
              "      <td>September 24, 2021</td>\n",
              "      <td>2021</td>\n",
              "      <td>TV-MA</td>\n",
              "      <td>1 Season</td>\n",
              "      <td>Docuseries, Reality TV</td>\n",
              "      <td>Feuds, flirtations and toilet talk go down amo...</td>\n",
              "    </tr>\n",
              "    <tr>\n",
              "      <th>4</th>\n",
              "      <td>s5</td>\n",
              "      <td>TV Show</td>\n",
              "      <td>Kota Factory</td>\n",
              "      <td>NaN</td>\n",
              "      <td>Mayur More, Jitendra Kumar, Ranjan Raj, Alam K...</td>\n",
              "      <td>India</td>\n",
              "      <td>September 24, 2021</td>\n",
              "      <td>2021</td>\n",
              "      <td>TV-MA</td>\n",
              "      <td>2 Seasons</td>\n",
              "      <td>International TV Shows, Romantic TV Shows, TV ...</td>\n",
              "      <td>In a city of coaching centers known to train I...</td>\n",
              "    </tr>\n",
              "  </tbody>\n",
              "</table>\n",
              "</div>\n",
              "      <button class=\"colab-df-convert\" onclick=\"convertToInteractive('df-109cd251-19f7-40a9-94d9-940d53fcaaaa')\"\n",
              "              title=\"Convert this dataframe to an interactive table.\"\n",
              "              style=\"display:none;\">\n",
              "        \n",
              "  <svg xmlns=\"http://www.w3.org/2000/svg\" height=\"24px\"viewBox=\"0 0 24 24\"\n",
              "       width=\"24px\">\n",
              "    <path d=\"M0 0h24v24H0V0z\" fill=\"none\"/>\n",
              "    <path d=\"M18.56 5.44l.94 2.06.94-2.06 2.06-.94-2.06-.94-.94-2.06-.94 2.06-2.06.94zm-11 1L8.5 8.5l.94-2.06 2.06-.94-2.06-.94L8.5 2.5l-.94 2.06-2.06.94zm10 10l.94 2.06.94-2.06 2.06-.94-2.06-.94-.94-2.06-.94 2.06-2.06.94z\"/><path d=\"M17.41 7.96l-1.37-1.37c-.4-.4-.92-.59-1.43-.59-.52 0-1.04.2-1.43.59L10.3 9.45l-7.72 7.72c-.78.78-.78 2.05 0 2.83L4 21.41c.39.39.9.59 1.41.59.51 0 1.02-.2 1.41-.59l7.78-7.78 2.81-2.81c.8-.78.8-2.07 0-2.86zM5.41 20L4 18.59l7.72-7.72 1.47 1.35L5.41 20z\"/>\n",
              "  </svg>\n",
              "      </button>\n",
              "      \n",
              "  <style>\n",
              "    .colab-df-container {\n",
              "      display:flex;\n",
              "      flex-wrap:wrap;\n",
              "      gap: 12px;\n",
              "    }\n",
              "\n",
              "    .colab-df-convert {\n",
              "      background-color: #E8F0FE;\n",
              "      border: none;\n",
              "      border-radius: 50%;\n",
              "      cursor: pointer;\n",
              "      display: none;\n",
              "      fill: #1967D2;\n",
              "      height: 32px;\n",
              "      padding: 0 0 0 0;\n",
              "      width: 32px;\n",
              "    }\n",
              "\n",
              "    .colab-df-convert:hover {\n",
              "      background-color: #E2EBFA;\n",
              "      box-shadow: 0px 1px 2px rgba(60, 64, 67, 0.3), 0px 1px 3px 1px rgba(60, 64, 67, 0.15);\n",
              "      fill: #174EA6;\n",
              "    }\n",
              "\n",
              "    [theme=dark] .colab-df-convert {\n",
              "      background-color: #3B4455;\n",
              "      fill: #D2E3FC;\n",
              "    }\n",
              "\n",
              "    [theme=dark] .colab-df-convert:hover {\n",
              "      background-color: #434B5C;\n",
              "      box-shadow: 0px 1px 3px 1px rgba(0, 0, 0, 0.15);\n",
              "      filter: drop-shadow(0px 1px 2px rgba(0, 0, 0, 0.3));\n",
              "      fill: #FFFFFF;\n",
              "    }\n",
              "  </style>\n",
              "\n",
              "      <script>\n",
              "        const buttonEl =\n",
              "          document.querySelector('#df-109cd251-19f7-40a9-94d9-940d53fcaaaa button.colab-df-convert');\n",
              "        buttonEl.style.display =\n",
              "          google.colab.kernel.accessAllowed ? 'block' : 'none';\n",
              "\n",
              "        async function convertToInteractive(key) {\n",
              "          const element = document.querySelector('#df-109cd251-19f7-40a9-94d9-940d53fcaaaa');\n",
              "          const dataTable =\n",
              "            await google.colab.kernel.invokeFunction('convertToInteractive',\n",
              "                                                     [key], {});\n",
              "          if (!dataTable) return;\n",
              "\n",
              "          const docLinkHtml = 'Like what you see? Visit the ' +\n",
              "            '<a target=\"_blank\" href=https://colab.research.google.com/notebooks/data_table.ipynb>data table notebook</a>'\n",
              "            + ' to learn more about interactive tables.';\n",
              "          element.innerHTML = '';\n",
              "          dataTable['output_type'] = 'display_data';\n",
              "          await google.colab.output.renderOutput(dataTable, element);\n",
              "          const docLink = document.createElement('div');\n",
              "          docLink.innerHTML = docLinkHtml;\n",
              "          element.appendChild(docLink);\n",
              "        }\n",
              "      </script>\n",
              "    </div>\n",
              "  </div>\n",
              "  "
            ],
            "text/plain": [
              "  show_id     type                  title         director  \\\n",
              "0      s1    Movie   Dick Johnson Is Dead  Kirsten Johnson   \n",
              "1      s2  TV Show          Blood & Water              NaN   \n",
              "2      s3  TV Show              Ganglands  Julien Leclercq   \n",
              "3      s4  TV Show  Jailbirds New Orleans              NaN   \n",
              "4      s5  TV Show           Kota Factory              NaN   \n",
              "\n",
              "                                                cast        country  \\\n",
              "0                                                NaN  United States   \n",
              "1  Ama Qamata, Khosi Ngema, Gail Mabalane, Thaban...   South Africa   \n",
              "2  Sami Bouajila, Tracy Gotoas, Samuel Jouy, Nabi...            NaN   \n",
              "3                                                NaN            NaN   \n",
              "4  Mayur More, Jitendra Kumar, Ranjan Raj, Alam K...          India   \n",
              "\n",
              "           date_added  release_year rating   duration  \\\n",
              "0  September 25, 2021          2020  PG-13     90 min   \n",
              "1  September 24, 2021          2021  TV-MA  2 Seasons   \n",
              "2  September 24, 2021          2021  TV-MA   1 Season   \n",
              "3  September 24, 2021          2021  TV-MA   1 Season   \n",
              "4  September 24, 2021          2021  TV-MA  2 Seasons   \n",
              "\n",
              "                                           listed_in  \\\n",
              "0                                      Documentaries   \n",
              "1    International TV Shows, TV Dramas, TV Mysteries   \n",
              "2  Crime TV Shows, International TV Shows, TV Act...   \n",
              "3                             Docuseries, Reality TV   \n",
              "4  International TV Shows, Romantic TV Shows, TV ...   \n",
              "\n",
              "                                         description  \n",
              "0  As her father nears the end of his life, filmm...  \n",
              "1  After crossing paths at a party, a Cape Town t...  \n",
              "2  To protect his family from a powerful drug lor...  \n",
              "3  Feuds, flirtations and toilet talk go down amo...  \n",
              "4  In a city of coaching centers known to train I...  "
            ]
          },
          "metadata": {},
          "execution_count": 3
        }
      ]
    },
    {
      "cell_type": "code",
      "source": [
        "netflix_df.info()"
      ],
      "metadata": {
        "colab": {
          "base_uri": "https://localhost:8080/"
        },
        "id": "PAjPYbIXnAlj",
        "outputId": "81c79bef-bed6-46de-b2de-8d80d501b1f4"
      },
      "execution_count": 4,
      "outputs": [
        {
          "output_type": "stream",
          "name": "stdout",
          "text": [
            "<class 'pandas.core.frame.DataFrame'>\n",
            "RangeIndex: 8807 entries, 0 to 8806\n",
            "Data columns (total 12 columns):\n",
            " #   Column        Non-Null Count  Dtype \n",
            "---  ------        --------------  ----- \n",
            " 0   show_id       8807 non-null   object\n",
            " 1   type          8807 non-null   object\n",
            " 2   title         8807 non-null   object\n",
            " 3   director      6173 non-null   object\n",
            " 4   cast          7982 non-null   object\n",
            " 5   country       7976 non-null   object\n",
            " 6   date_added    8797 non-null   object\n",
            " 7   release_year  8807 non-null   int64 \n",
            " 8   rating        8803 non-null   object\n",
            " 9   duration      8804 non-null   object\n",
            " 10  listed_in     8807 non-null   object\n",
            " 11  description   8807 non-null   object\n",
            "dtypes: int64(1), object(11)\n",
            "memory usage: 825.8+ KB\n"
          ]
        }
      ]
    },
    {
      "cell_type": "markdown",
      "source": [
        "'director, cast, country, date_added, rating, duration' columns have missing values"
      ],
      "metadata": {
        "id": "vl-FFseonc-B"
      }
    },
    {
      "cell_type": "code",
      "source": [
        "# missing values\n",
        "netflix_df.isnull().sum()"
      ],
      "metadata": {
        "colab": {
          "base_uri": "https://localhost:8080/"
        },
        "id": "vsaGBjTjn_1S",
        "outputId": "e28a8d59-739c-4f22-8e79-daa29d8a40fe"
      },
      "execution_count": 5,
      "outputs": [
        {
          "output_type": "execute_result",
          "data": {
            "text/plain": [
              "show_id            0\n",
              "type               0\n",
              "title              0\n",
              "director        2634\n",
              "cast             825\n",
              "country          831\n",
              "date_added        10\n",
              "release_year       0\n",
              "rating             4\n",
              "duration           3\n",
              "listed_in          0\n",
              "description        0\n",
              "dtype: int64"
            ]
          },
          "metadata": {},
          "execution_count": 5
        }
      ]
    },
    {
      "cell_type": "code",
      "source": [
        "msno.matrix(netflix_df, figsize=(10,5), fontsize=12, color=(0.6, 0.6, 0.6))"
      ],
      "metadata": {
        "colab": {
          "base_uri": "https://localhost:8080/",
          "height": 400
        },
        "id": "nmgW8QwooBl4",
        "outputId": "36d63790-4c3c-4e68-8655-b055768250e6"
      },
      "execution_count": 6,
      "outputs": [
        {
          "output_type": "execute_result",
          "data": {
            "text/plain": [
              "<matplotlib.axes._subplots.AxesSubplot at 0x7feb50630150>"
            ]
          },
          "metadata": {},
          "execution_count": 6
        },
        {
          "output_type": "display_data",
          "data": {
            "image/png": "[encoded data removed]",
            "text/plain": [
              "<Figure size 720x360 with 2 Axes>"
            ]
          },
          "metadata": {
            "needs_background": "light"
          }
        }
      ]
    },
    {
      "cell_type": "code",
      "source": [
        "netflix_df.nunique()"
      ],
      "metadata": {
        "colab": {
          "base_uri": "https://localhost:8080/"
        },
        "id": "GTflZ5S0ptnS",
        "outputId": "5cf19ab0-30a7-45b7-d6fe-669785177c6b"
      },
      "execution_count": 7,
      "outputs": [
        {
          "output_type": "execute_result",
          "data": {
            "text/plain": [
              "show_id         8807\n",
              "type               2\n",
              "title           8807\n",
              "director        4528\n",
              "cast            7692\n",
              "country          748\n",
              "date_added      1767\n",
              "release_year      74\n",
              "rating            17\n",
              "duration         220\n",
              "listed_in        514\n",
              "description     8775\n",
              "dtype: int64"
            ]
          },
          "metadata": {},
          "execution_count": 7
        }
      ]
    },
    {
      "cell_type": "markdown",
      "source": [
        "'description' has no missing values but only has 8775 unique values"
      ],
      "metadata": {
        "id": "FrzM5-0gxqUE"
      }
    },
    {
      "cell_type": "code",
      "source": [
        "netflix_df['description'].duplicated().sum()"
      ],
      "metadata": {
        "colab": {
          "base_uri": "https://localhost:8080/"
        },
        "id": "1n1XhFlHvwYg",
        "outputId": "3b5052c9-1541-4715-dc5d-ef528ef20184"
      },
      "execution_count": 8,
      "outputs": [
        {
          "output_type": "execute_result",
          "data": {
            "text/plain": [
              "32"
            ]
          },
          "metadata": {},
          "execution_count": 8
        }
      ]
    },
    {
      "cell_type": "markdown",
      "source": [
        "Why duplicated values?"
      ],
      "metadata": {
        "id": "uWjI_O7ox0Pw"
      }
    },
    {
      "cell_type": "code",
      "source": [
        "# duplicated descriptions\n",
        "temp = netflix_df['description']\n",
        "result = Counter(temp)\n",
        "for key, value in result.items():\n",
        "  if value >= 2:\n",
        "    print(key)"
      ],
      "metadata": {
        "colab": {
          "base_uri": "https://localhost:8080/"
        },
        "id": "8lCjesBbv9NY",
        "outputId": "9c11c024-92f6-4c8a-e21d-ef6523fc2acd"
      },
      "execution_count": 9,
      "outputs": [
        {
          "output_type": "stream",
          "name": "stdout",
          "text": [
            "With their biggest foe seemingly defeated, InuYasha and his friends return to everyday life. But the peace is soon shattered by an emerging new enemy.\n",
            "The Great Dog Demon beaqueathed one of the Three Swords of the Fang to each of his two sons. Now the evil power of the third sword has been awakened.\n",
            "Mistakenly accused of an attack on the Fourth Raikage, ninja Naruto is imprisoned in the impenetrable Hozuki Castle and his powers are sealed.\n",
            "A budding politician has devious plans to rise in the ranks — until an unexpected new presence begins to interfere with his every crooked move.\n",
            "Paranormal activity at a lush, abandoned property alarms a group eager to redevelop the site, but the eerie events may not be as unearthly as they think.\n",
            "Cora has three sons and a daughter and she´s almost 80. One day during a family reunion the big question comes up: who will be her heir?\n",
            "Challenged to compose 100 songs before he can marry the girl he loves, a tortured but passionate singer-songwriter embarks on a poignant musical journey.\n",
            "Born into a small town controlled by the mafia, an irate young woman seeks revenge on the forces that tore apart and wrongfully imprisoned her family.\n",
            "As a blind librarian, dispirited cricketer and desolate psychiatrist each seek retribution and release, their lives overlap under eerie influences.\n",
            "As a woman scours Hyderabad for her missing husband, she becomes entangled in a conspiracy that suggests there’s more to the mystery than meets the eye.\n",
            "When pretty new neighbor Seema falls for their shy roommate Sid, jealous womanizers Omi and Jai plot to break up the new lovebirds.\n",
            "Multiple women report their husbands as missing but when it appears they are looking for the same man, a police officer traces their cryptic connection.\n",
            "From controversial cartoonist to powerful Mumbai politician, this biopic maps the meteoric rise of far-right Shiv Sena party founder, Bal Thackeray.\n",
            "This educational series for tiny tots features a toe-tapping spin on nursery rhymes with upbeat tunes and a diverse set of easy-to-follow lessons.\n",
            "After growing up enduring criticism from his father, a young man finds his world shaken upon learning he was switched at birth with a millionaire’s son.\n",
            "A scheming matriarch plots to cut off her disabled stepson and his wife from the family fortune, creating a division within the clan.\n",
            "Two quirky cats, Ollie and Moon, and their friend Stanley the snail travel the world, solving everyday problems and learning about different cultures.\n",
            "Secrets bubble to the surface after a sensual encounter and an unforeseen crime entangle two friends and a woman caught between them.\n",
            "A surly septuagenarian gets another chance at her 20s after having her photo snapped at a studio that magically takes 50 years off her life.\n",
            "As a series of murders hit close to home, a video game designer with post-traumatic stress must confront her demons, or risk becoming their victim.\n",
            "An aspiring musician battles age-old caste divides to be able to learn the art of a classical instrument from a traditionalist, veteran percussionist.\n",
            "An affable, newly appointed college warden proves to be no ordinary man when an old enemy resurfaces and exposes his complicated, violent past.\n",
            "On India's Independence Day, a zany mishap in a Mumbai chawl disrupts a young love story while compelling the residents to unite in aid of a little boy.\n",
            "As a psychology professor faces Alzheimer's, his daughter and her three close female friends experience romance, marriage, heartbreak and tragedy.\n",
            "After devastating terror attacks in Norway, a young survivor, grieving families and the country rally for justice and healing. Based on a true story.\n",
            "When Elastigirl gets recruited for a high-profile crime-fighting mission, Mr. Incredible takes on his toughest assignment ever: full-time parenting.\n",
            "A young Han Solo tries to settle an old score with the help of his new buddy Chewbacca, a crew of space smugglers and a cunning old friend.\n"
          ]
        }
      ]
    },
    {
      "cell_type": "markdown",
      "source": [
        "it seems like they used the same description for the series"
      ],
      "metadata": {
        "id": "T5L4aVmWx53C"
      }
    },
    {
      "cell_type": "markdown",
      "source": [
        "### Data Pre-processing"
      ],
      "metadata": {
        "id": "IesbTqcnzvES"
      }
    },
    {
      "cell_type": "markdown",
      "source": [
        "#### Rating and Duration"
      ],
      "metadata": {
        "id": "39RBlmA-5mPe"
      }
    },
    {
      "cell_type": "code",
      "source": [
        "new_df = netflix_df.copy()\n",
        "new_df = new_df.dropna(subset=['rating'])\n",
        "new_df.isna().sum()"
      ],
      "metadata": {
        "colab": {
          "base_uri": "https://localhost:8080/"
        },
        "id": "fqp2nSFx2myC",
        "outputId": "50c6e4fe-cd90-4510-c635-753455bd57c9"
      },
      "execution_count": 10,
      "outputs": [
        {
          "output_type": "execute_result",
          "data": {
            "text/plain": [
              "show_id            0\n",
              "type               0\n",
              "title              0\n",
              "director        2631\n",
              "cast             825\n",
              "country          830\n",
              "date_added        10\n",
              "release_year       0\n",
              "rating             0\n",
              "duration           3\n",
              "listed_in          0\n",
              "description        0\n",
              "dtype: int64"
            ]
          },
          "metadata": {},
          "execution_count": 10
        }
      ]
    },
    {
      "cell_type": "code",
      "source": [
        "new_df['rating'].unique()"
      ],
      "metadata": {
        "colab": {
          "base_uri": "https://localhost:8080/"
        },
        "id": "u9wWcu6L4QTv",
        "outputId": "a7ec015b-0c97-431c-a4a5-c8f002b97404"
      },
      "execution_count": 11,
      "outputs": [
        {
          "output_type": "execute_result",
          "data": {
            "text/plain": [
              "array(['PG-13', 'TV-MA', 'PG', 'TV-14', 'TV-PG', 'TV-Y', 'TV-Y7', 'R',\n",
              "       'TV-G', 'G', 'NC-17', '74 min', '84 min', '66 min', 'NR',\n",
              "       'TV-Y7-FV', 'UR'], dtype=object)"
            ]
          },
          "metadata": {},
          "execution_count": 11
        }
      ]
    },
    {
      "cell_type": "markdown",
      "source": [
        "'74 min', '84 min', '66min' seems more like duration rather than rating"
      ],
      "metadata": {
        "id": "wf_bqntI7vuP"
      }
    },
    {
      "cell_type": "code",
      "source": [
        "new_df[new_df['duration'].isna()]"
      ],
      "metadata": {
        "colab": {
          "base_uri": "https://localhost:8080/",
          "height": 381
        },
        "id": "3ybJPu7L2VQJ",
        "outputId": "68db04a6-5c9a-4808-c85d-d7738ba54cfe"
      },
      "execution_count": 12,
      "outputs": [
        {
          "output_type": "execute_result",
          "data": {
            "text/html": [
              "\n",
              "  <div id=\"df-46bd1918-30ed-4c5f-b0a2-c7e378e85460\">\n",
              "    <div class=\"colab-df-container\">\n",
              "      <div>\n",
              "<style scoped>\n",
              "    .dataframe tbody tr th:only-of-type {\n",
              "        vertical-align: middle;\n",
              "    }\n",
              "\n",
              "    .dataframe tbody tr th {\n",
              "        vertical-align: top;\n",
              "    }\n",
              "\n",
              "    .dataframe thead th {\n",
              "        text-align: right;\n",
              "    }\n",
              "</style>\n",
              "<table border=\"1\" class=\"dataframe\">\n",
              "  <thead>\n",
              "    <tr style=\"text-align: right;\">\n",
              "      <th></th>\n",
              "      <th>show_id</th>\n",
              "      <th>type</th>\n",
              "      <th>title</th>\n",
              "      <th>director</th>\n",
              "      <th>cast</th>\n",
              "      <th>country</th>\n",
              "      <th>date_added</th>\n",
              "      <th>release_year</th>\n",
              "      <th>rating</th>\n",
              "      <th>duration</th>\n",
              "      <th>listed_in</th>\n",
              "      <th>description</th>\n",
              "    </tr>\n",
              "  </thead>\n",
              "  <tbody>\n",
              "    <tr>\n",
              "      <th>5541</th>\n",
              "      <td>s5542</td>\n",
              "      <td>Movie</td>\n",
              "      <td>Louis C.K. 2017</td>\n",
              "      <td>Louis C.K.</td>\n",
              "      <td>Louis C.K.</td>\n",
              "      <td>United States</td>\n",
              "      <td>April 4, 2017</td>\n",
              "      <td>2017</td>\n",
              "      <td>74 min</td>\n",
              "      <td>NaN</td>\n",
              "      <td>Movies</td>\n",
              "      <td>Louis C.K. muses on religion, eternal love, gi...</td>\n",
              "    </tr>\n",
              "    <tr>\n",
              "      <th>5794</th>\n",
              "      <td>s5795</td>\n",
              "      <td>Movie</td>\n",
              "      <td>Louis C.K.: Hilarious</td>\n",
              "      <td>Louis C.K.</td>\n",
              "      <td>Louis C.K.</td>\n",
              "      <td>United States</td>\n",
              "      <td>September 16, 2016</td>\n",
              "      <td>2010</td>\n",
              "      <td>84 min</td>\n",
              "      <td>NaN</td>\n",
              "      <td>Movies</td>\n",
              "      <td>Emmy-winning comedy writer Louis C.K. brings h...</td>\n",
              "    </tr>\n",
              "    <tr>\n",
              "      <th>5813</th>\n",
              "      <td>s5814</td>\n",
              "      <td>Movie</td>\n",
              "      <td>Louis C.K.: Live at the Comedy Store</td>\n",
              "      <td>Louis C.K.</td>\n",
              "      <td>Louis C.K.</td>\n",
              "      <td>United States</td>\n",
              "      <td>August 15, 2016</td>\n",
              "      <td>2015</td>\n",
              "      <td>66 min</td>\n",
              "      <td>NaN</td>\n",
              "      <td>Movies</td>\n",
              "      <td>The comic puts his trademark hilarious/thought...</td>\n",
              "    </tr>\n",
              "  </tbody>\n",
              "</table>\n",
              "</div>\n",
              "      <button class=\"colab-df-convert\" onclick=\"convertToInteractive('df-46bd1918-30ed-4c5f-b0a2-c7e378e85460')\"\n",
              "              title=\"Convert this dataframe to an interactive table.\"\n",
              "              style=\"display:none;\">\n",
              "        \n",
              "  <svg xmlns=\"http://www.w3.org/2000/svg\" height=\"24px\"viewBox=\"0 0 24 24\"\n",
              "       width=\"24px\">\n",
              "    <path d=\"M0 0h24v24H0V0z\" fill=\"none\"/>\n",
              "    <path d=\"M18.56 5.44l.94 2.06.94-2.06 2.06-.94-2.06-.94-.94-2.06-.94 2.06-2.06.94zm-11 1L8.5 8.5l.94-2.06 2.06-.94-2.06-.94L8.5 2.5l-.94 2.06-2.06.94zm10 10l.94 2.06.94-2.06 2.06-.94-2.06-.94-.94-2.06-.94 2.06-2.06.94z\"/><path d=\"M17.41 7.96l-1.37-1.37c-.4-.4-.92-.59-1.43-.59-.52 0-1.04.2-1.43.59L10.3 9.45l-7.72 7.72c-.78.78-.78 2.05 0 2.83L4 21.41c.39.39.9.59 1.41.59.51 0 1.02-.2 1.41-.59l7.78-7.78 2.81-2.81c.8-.78.8-2.07 0-2.86zM5.41 20L4 18.59l7.72-7.72 1.47 1.35L5.41 20z\"/>\n",
              "  </svg>\n",
              "      </button>\n",
              "      \n",
              "  <style>\n",
              "    .colab-df-container {\n",
              "      display:flex;\n",
              "      flex-wrap:wrap;\n",
              "      gap: 12px;\n",
              "    }\n",
              "\n",
              "    .colab-df-convert {\n",
              "      background-color: #E8F0FE;\n",
              "      border: none;\n",
              "      border-radius: 50%;\n",
              "      cursor: pointer;\n",
              "      display: none;\n",
              "      fill: #1967D2;\n",
              "      height: 32px;\n",
              "      padding: 0 0 0 0;\n",
              "      width: 32px;\n",
              "    }\n",
              "\n",
              "    .colab-df-convert:hover {\n",
              "      background-color: #E2EBFA;\n",
              "      box-shadow: 0px 1px 2px rgba(60, 64, 67, 0.3), 0px 1px 3px 1px rgba(60, 64, 67, 0.15);\n",
              "      fill: #174EA6;\n",
              "    }\n",
              "\n",
              "    [theme=dark] .colab-df-convert {\n",
              "      background-color: #3B4455;\n",
              "      fill: #D2E3FC;\n",
              "    }\n",
              "\n",
              "    [theme=dark] .colab-df-convert:hover {\n",
              "      background-color: #434B5C;\n",
              "      box-shadow: 0px 1px 3px 1px rgba(0, 0, 0, 0.15);\n",
              "      filter: drop-shadow(0px 1px 2px rgba(0, 0, 0, 0.3));\n",
              "      fill: #FFFFFF;\n",
              "    }\n",
              "  </style>\n",
              "\n",
              "      <script>\n",
              "        const buttonEl =\n",
              "          document.querySelector('#df-46bd1918-30ed-4c5f-b0a2-c7e378e85460 button.colab-df-convert');\n",
              "        buttonEl.style.display =\n",
              "          google.colab.kernel.accessAllowed ? 'block' : 'none';\n",
              "\n",
              "        async function convertToInteractive(key) {\n",
              "          const element = document.querySelector('#df-46bd1918-30ed-4c5f-b0a2-c7e378e85460');\n",
              "          const dataTable =\n",
              "            await google.colab.kernel.invokeFunction('convertToInteractive',\n",
              "                                                     [key], {});\n",
              "          if (!dataTable) return;\n",
              "\n",
              "          const docLinkHtml = 'Like what you see? Visit the ' +\n",
              "            '<a target=\"_blank\" href=https://colab.research.google.com/notebooks/data_table.ipynb>data table notebook</a>'\n",
              "            + ' to learn more about interactive tables.';\n",
              "          element.innerHTML = '';\n",
              "          dataTable['output_type'] = 'display_data';\n",
              "          await google.colab.output.renderOutput(dataTable, element);\n",
              "          const docLink = document.createElement('div');\n",
              "          docLink.innerHTML = docLinkHtml;\n",
              "          element.appendChild(docLink);\n",
              "        }\n",
              "      </script>\n",
              "    </div>\n",
              "  </div>\n",
              "  "
            ],
            "text/plain": [
              "     show_id   type                                 title    director  \\\n",
              "5541   s5542  Movie                       Louis C.K. 2017  Louis C.K.   \n",
              "5794   s5795  Movie                 Louis C.K.: Hilarious  Louis C.K.   \n",
              "5813   s5814  Movie  Louis C.K.: Live at the Comedy Store  Louis C.K.   \n",
              "\n",
              "            cast        country          date_added  release_year  rating  \\\n",
              "5541  Louis C.K.  United States       April 4, 2017          2017  74 min   \n",
              "5794  Louis C.K.  United States  September 16, 2016          2010  84 min   \n",
              "5813  Louis C.K.  United States     August 15, 2016          2015  66 min   \n",
              "\n",
              "     duration listed_in                                        description  \n",
              "5541      NaN    Movies  Louis C.K. muses on religion, eternal love, gi...  \n",
              "5794      NaN    Movies  Emmy-winning comedy writer Louis C.K. brings h...  \n",
              "5813      NaN    Movies  The comic puts his trademark hilarious/thought...  "
            ]
          },
          "metadata": {},
          "execution_count": 12
        }
      ]
    },
    {
      "cell_type": "code",
      "source": [
        "# replacing the duration data in 'rating'\n",
        "new_df.loc[5541, 'duration'] = '74 min'\n",
        "new_df.loc[5541, 'rating'] = np.nan\n",
        "new_df.loc[5794, 'duration'] = '84 min'\n",
        "new_df.loc[5794, 'rating'] = np.nan\n",
        "new_df.loc[5813, 'duration'] = '66 min'\n",
        "new_df.loc[5541, 'rating'] = np.nan"
      ],
      "metadata": {
        "id": "1yRVS44o5-aQ"
      },
      "execution_count": 13,
      "outputs": []
    },
    {
      "cell_type": "code",
      "source": [
        "# removing missing values\n",
        "new_df = new_df.dropna(subset=['rating'])\n",
        "new_df.info()"
      ],
      "metadata": {
        "colab": {
          "base_uri": "https://localhost:8080/"
        },
        "id": "jvVbEXlF7oIZ",
        "outputId": "0417509c-63f3-4214-9098-e98d0d78624e"
      },
      "execution_count": 14,
      "outputs": [
        {
          "output_type": "stream",
          "name": "stdout",
          "text": [
            "<class 'pandas.core.frame.DataFrame'>\n",
            "Int64Index: 8801 entries, 0 to 8806\n",
            "Data columns (total 12 columns):\n",
            " #   Column        Non-Null Count  Dtype \n",
            "---  ------        --------------  ----- \n",
            " 0   show_id       8801 non-null   object\n",
            " 1   type          8801 non-null   object\n",
            " 2   title         8801 non-null   object\n",
            " 3   director      6170 non-null   object\n",
            " 4   cast          7976 non-null   object\n",
            " 5   country       7971 non-null   object\n",
            " 6   date_added    8791 non-null   object\n",
            " 7   release_year  8801 non-null   int64 \n",
            " 8   rating        8801 non-null   object\n",
            " 9   duration      8801 non-null   object\n",
            " 10  listed_in     8801 non-null   object\n",
            " 11  description   8801 non-null   object\n",
            "dtypes: int64(1), object(11)\n",
            "memory usage: 893.9+ KB\n"
          ]
        }
      ]
    },
    {
      "cell_type": "code",
      "source": [
        "new_df['duration'].unique()"
      ],
      "metadata": {
        "colab": {
          "base_uri": "https://localhost:8080/"
        },
        "id": "OZsKjqQ19G7J",
        "outputId": "94698c26-f418-4de5-e1ed-acea398486be"
      },
      "execution_count": 15,
      "outputs": [
        {
          "output_type": "execute_result",
          "data": {
            "text/plain": [
              "array(['90 min', '2 Seasons', '1 Season', '91 min', '125 min',\n",
              "       '9 Seasons', '104 min', '127 min', '4 Seasons', '67 min', '94 min',\n",
              "       '5 Seasons', '161 min', '61 min', '166 min', '147 min', '103 min',\n",
              "       '97 min', '106 min', '111 min', '3 Seasons', '110 min', '105 min',\n",
              "       '96 min', '124 min', '116 min', '98 min', '23 min', '115 min',\n",
              "       '122 min', '99 min', '88 min', '100 min', '6 Seasons', '102 min',\n",
              "       '93 min', '95 min', '85 min', '83 min', '113 min', '13 min',\n",
              "       '182 min', '48 min', '145 min', '87 min', '92 min', '80 min',\n",
              "       '117 min', '128 min', '119 min', '143 min', '114 min', '118 min',\n",
              "       '108 min', '63 min', '121 min', '142 min', '154 min', '120 min',\n",
              "       '82 min', '109 min', '101 min', '86 min', '229 min', '76 min',\n",
              "       '89 min', '156 min', '112 min', '107 min', '129 min', '135 min',\n",
              "       '136 min', '165 min', '150 min', '133 min', '70 min', '84 min',\n",
              "       '140 min', '78 min', '7 Seasons', '64 min', '59 min', '139 min',\n",
              "       '69 min', '148 min', '189 min', '141 min', '130 min', '138 min',\n",
              "       '81 min', '132 min', '10 Seasons', '123 min', '65 min', '68 min',\n",
              "       '66 min', '62 min', '74 min', '131 min', '39 min', '46 min',\n",
              "       '38 min', '8 Seasons', '17 Seasons', '126 min', '155 min',\n",
              "       '159 min', '137 min', '12 min', '273 min', '36 min', '34 min',\n",
              "       '77 min', '60 min', '49 min', '58 min', '72 min', '204 min',\n",
              "       '212 min', '25 min', '73 min', '29 min', '47 min', '32 min',\n",
              "       '35 min', '71 min', '149 min', '33 min', '15 min', '54 min',\n",
              "       '224 min', '162 min', '37 min', '75 min', '79 min', '55 min',\n",
              "       '158 min', '164 min', '173 min', '181 min', '185 min', '21 min',\n",
              "       '24 min', '51 min', '151 min', '42 min', '22 min', '134 min',\n",
              "       '177 min', '13 Seasons', '52 min', '14 min', '53 min', '8 min',\n",
              "       '57 min', '28 min', '50 min', '9 min', '26 min', '45 min',\n",
              "       '171 min', '27 min', '44 min', '146 min', '20 min', '157 min',\n",
              "       '17 min', '203 min', '41 min', '30 min', '194 min', '15 Seasons',\n",
              "       '233 min', '237 min', '230 min', '195 min', '253 min', '152 min',\n",
              "       '190 min', '160 min', '208 min', '180 min', '144 min', '5 min',\n",
              "       '174 min', '170 min', '192 min', '209 min', '187 min', '172 min',\n",
              "       '16 min', '186 min', '11 min', '193 min', '176 min', '56 min',\n",
              "       '169 min', '40 min', '10 min', '3 min', '168 min', '312 min',\n",
              "       '153 min', '214 min', '31 min', '163 min', '19 min', '12 Seasons',\n",
              "       '179 min', '11 Seasons', '43 min', '200 min', '196 min', '167 min',\n",
              "       '178 min', '228 min', '18 min', '205 min', '201 min', '191 min'],\n",
              "      dtype=object)"
            ]
          },
          "metadata": {},
          "execution_count": 15
        }
      ]
    },
    {
      "cell_type": "markdown",
      "source": [
        "for movies, able to identify the running time but for tv shows, only season information is provided"
      ],
      "metadata": {
        "id": "qQ8CC5j99XxW"
      }
    },
    {
      "cell_type": "markdown",
      "source": [
        "#### Date added"
      ],
      "metadata": {
        "id": "25Mc7r9_CsFe"
      }
    },
    {
      "cell_type": "code",
      "source": [
        "new_df[new_df['date_added'].isna()]"
      ],
      "metadata": {
        "colab": {
          "base_uri": "https://localhost:8080/",
          "height": 1000
        },
        "id": "hEVJm9DSDHqQ",
        "outputId": "a3b5420a-3384-4f5b-f687-0f70a4ce0309"
      },
      "execution_count": 16,
      "outputs": [
        {
          "output_type": "execute_result",
          "data": {
            "text/html": [
              "\n",
              "  <div id=\"df-0f5687ea-722f-4964-bf28-0251fd82f612\">\n",
              "    <div class=\"colab-df-container\">\n",
              "      <div>\n",
              "<style scoped>\n",
              "    .dataframe tbody tr th:only-of-type {\n",
              "        vertical-align: middle;\n",
              "    }\n",
              "\n",
              "    .dataframe tbody tr th {\n",
              "        vertical-align: top;\n",
              "    }\n",
              "\n",
              "    .dataframe thead th {\n",
              "        text-align: right;\n",
              "    }\n",
              "</style>\n",
              "<table border=\"1\" class=\"dataframe\">\n",
              "  <thead>\n",
              "    <tr style=\"text-align: right;\">\n",
              "      <th></th>\n",
              "      <th>show_id</th>\n",
              "      <th>type</th>\n",
              "      <th>title</th>\n",
              "      <th>director</th>\n",
              "      <th>cast</th>\n",
              "      <th>country</th>\n",
              "      <th>date_added</th>\n",
              "      <th>release_year</th>\n",
              "      <th>rating</th>\n",
              "      <th>duration</th>\n",
              "      <th>listed_in</th>\n",
              "      <th>description</th>\n",
              "    </tr>\n",
              "  </thead>\n",
              "  <tbody>\n",
              "    <tr>\n",
              "      <th>6066</th>\n",
              "      <td>s6067</td>\n",
              "      <td>TV Show</td>\n",
              "      <td>A Young Doctor's Notebook and Other Stories</td>\n",
              "      <td>NaN</td>\n",
              "      <td>Daniel Radcliffe, Jon Hamm, Adam Godley, Chris...</td>\n",
              "      <td>United Kingdom</td>\n",
              "      <td>NaN</td>\n",
              "      <td>2013</td>\n",
              "      <td>TV-MA</td>\n",
              "      <td>2 Seasons</td>\n",
              "      <td>British TV Shows, TV Comedies, TV Dramas</td>\n",
              "      <td>Set during the Russian Revolution, this comic ...</td>\n",
              "    </tr>\n",
              "    <tr>\n",
              "      <th>6174</th>\n",
              "      <td>s6175</td>\n",
              "      <td>TV Show</td>\n",
              "      <td>Anthony Bourdain: Parts Unknown</td>\n",
              "      <td>NaN</td>\n",
              "      <td>Anthony Bourdain</td>\n",
              "      <td>United States</td>\n",
              "      <td>NaN</td>\n",
              "      <td>2018</td>\n",
              "      <td>TV-PG</td>\n",
              "      <td>5 Seasons</td>\n",
              "      <td>Docuseries</td>\n",
              "      <td>This CNN original series has chef Anthony Bour...</td>\n",
              "    </tr>\n",
              "    <tr>\n",
              "      <th>6795</th>\n",
              "      <td>s6796</td>\n",
              "      <td>TV Show</td>\n",
              "      <td>Frasier</td>\n",
              "      <td>NaN</td>\n",
              "      <td>Kelsey Grammer, Jane Leeves, David Hyde Pierce...</td>\n",
              "      <td>United States</td>\n",
              "      <td>NaN</td>\n",
              "      <td>2003</td>\n",
              "      <td>TV-PG</td>\n",
              "      <td>11 Seasons</td>\n",
              "      <td>Classic &amp; Cult TV, TV Comedies</td>\n",
              "      <td>Frasier Crane is a snooty but lovable Seattle ...</td>\n",
              "    </tr>\n",
              "    <tr>\n",
              "      <th>6806</th>\n",
              "      <td>s6807</td>\n",
              "      <td>TV Show</td>\n",
              "      <td>Friends</td>\n",
              "      <td>NaN</td>\n",
              "      <td>Jennifer Aniston, Courteney Cox, Lisa Kudrow, ...</td>\n",
              "      <td>United States</td>\n",
              "      <td>NaN</td>\n",
              "      <td>2003</td>\n",
              "      <td>TV-14</td>\n",
              "      <td>10 Seasons</td>\n",
              "      <td>Classic &amp; Cult TV, TV Comedies</td>\n",
              "      <td>This hit sitcom follows the merry misadventure...</td>\n",
              "    </tr>\n",
              "    <tr>\n",
              "      <th>6901</th>\n",
              "      <td>s6902</td>\n",
              "      <td>TV Show</td>\n",
              "      <td>Gunslinger Girl</td>\n",
              "      <td>NaN</td>\n",
              "      <td>Yuuka Nanri, Kanako Mitsuhashi, Eri Sendai, Am...</td>\n",
              "      <td>Japan</td>\n",
              "      <td>NaN</td>\n",
              "      <td>2008</td>\n",
              "      <td>TV-14</td>\n",
              "      <td>2 Seasons</td>\n",
              "      <td>Anime Series, Crime TV Shows</td>\n",
              "      <td>On the surface, the Social Welfare Agency appe...</td>\n",
              "    </tr>\n",
              "    <tr>\n",
              "      <th>7196</th>\n",
              "      <td>s7197</td>\n",
              "      <td>TV Show</td>\n",
              "      <td>Kikoriki</td>\n",
              "      <td>NaN</td>\n",
              "      <td>Igor Dmitriev</td>\n",
              "      <td>NaN</td>\n",
              "      <td>NaN</td>\n",
              "      <td>2010</td>\n",
              "      <td>TV-Y</td>\n",
              "      <td>2 Seasons</td>\n",
              "      <td>Kids' TV</td>\n",
              "      <td>A wacky rabbit and his gang of animal pals hav...</td>\n",
              "    </tr>\n",
              "    <tr>\n",
              "      <th>7254</th>\n",
              "      <td>s7255</td>\n",
              "      <td>TV Show</td>\n",
              "      <td>La Familia P. Luche</td>\n",
              "      <td>NaN</td>\n",
              "      <td>Eugenio Derbez, Consuelo Duval, Luis Manuel Áv...</td>\n",
              "      <td>United States</td>\n",
              "      <td>NaN</td>\n",
              "      <td>2012</td>\n",
              "      <td>TV-14</td>\n",
              "      <td>3 Seasons</td>\n",
              "      <td>International TV Shows, Spanish-Language TV Sh...</td>\n",
              "      <td>This irreverent sitcom featues Ludovico, Feder...</td>\n",
              "    </tr>\n",
              "    <tr>\n",
              "      <th>7406</th>\n",
              "      <td>s7407</td>\n",
              "      <td>TV Show</td>\n",
              "      <td>Maron</td>\n",
              "      <td>NaN</td>\n",
              "      <td>Marc Maron, Judd Hirsch, Josh Brener, Nora Zeh...</td>\n",
              "      <td>United States</td>\n",
              "      <td>NaN</td>\n",
              "      <td>2016</td>\n",
              "      <td>TV-MA</td>\n",
              "      <td>4 Seasons</td>\n",
              "      <td>TV Comedies</td>\n",
              "      <td>Marc Maron stars as Marc Maron, who interviews...</td>\n",
              "    </tr>\n",
              "    <tr>\n",
              "      <th>7847</th>\n",
              "      <td>s7848</td>\n",
              "      <td>TV Show</td>\n",
              "      <td>Red vs. Blue</td>\n",
              "      <td>NaN</td>\n",
              "      <td>Burnie Burns, Jason Saldaña, Gustavo Sorola, G...</td>\n",
              "      <td>United States</td>\n",
              "      <td>NaN</td>\n",
              "      <td>2015</td>\n",
              "      <td>NR</td>\n",
              "      <td>13 Seasons</td>\n",
              "      <td>TV Action &amp; Adventure, TV Comedies, TV Sci-Fi ...</td>\n",
              "      <td>This parody of first-person shooter games, mil...</td>\n",
              "    </tr>\n",
              "    <tr>\n",
              "      <th>8182</th>\n",
              "      <td>s8183</td>\n",
              "      <td>TV Show</td>\n",
              "      <td>The Adventures of Figaro Pho</td>\n",
              "      <td>NaN</td>\n",
              "      <td>Luke Jurevicius, Craig Behenna, Charlotte Haml...</td>\n",
              "      <td>Australia</td>\n",
              "      <td>NaN</td>\n",
              "      <td>2015</td>\n",
              "      <td>TV-Y7</td>\n",
              "      <td>2 Seasons</td>\n",
              "      <td>Kids' TV, TV Comedies</td>\n",
              "      <td>Imagine your worst fears, then multiply them: ...</td>\n",
              "    </tr>\n",
              "  </tbody>\n",
              "</table>\n",
              "</div>\n",
              "      <button class=\"colab-df-convert\" onclick=\"convertToInteractive('df-0f5687ea-722f-4964-bf28-0251fd82f612')\"\n",
              "              title=\"Convert this dataframe to an interactive table.\"\n",
              "              style=\"display:none;\">\n",
              "        \n",
              "  <svg xmlns=\"http://www.w3.org/2000/svg\" height=\"24px\"viewBox=\"0 0 24 24\"\n",
              "       width=\"24px\">\n",
              "    <path d=\"M0 0h24v24H0V0z\" fill=\"none\"/>\n",
              "    <path d=\"M18.56 5.44l.94 2.06.94-2.06 2.06-.94-2.06-.94-.94-2.06-.94 2.06-2.06.94zm-11 1L8.5 8.5l.94-2.06 2.06-.94-2.06-.94L8.5 2.5l-.94 2.06-2.06.94zm10 10l.94 2.06.94-2.06 2.06-.94-2.06-.94-.94-2.06-.94 2.06-2.06.94z\"/><path d=\"M17.41 7.96l-1.37-1.37c-.4-.4-.92-.59-1.43-.59-.52 0-1.04.2-1.43.59L10.3 9.45l-7.72 7.72c-.78.78-.78 2.05 0 2.83L4 21.41c.39.39.9.59 1.41.59.51 0 1.02-.2 1.41-.59l7.78-7.78 2.81-2.81c.8-.78.8-2.07 0-2.86zM5.41 20L4 18.59l7.72-7.72 1.47 1.35L5.41 20z\"/>\n",
              "  </svg>\n",
              "      </button>\n",
              "      \n",
              "  <style>\n",
              "    .colab-df-container {\n",
              "      display:flex;\n",
              "      flex-wrap:wrap;\n",
              "      gap: 12px;\n",
              "    }\n",
              "\n",
              "    .colab-df-convert {\n",
              "      background-color: #E8F0FE;\n",
              "      border: none;\n",
              "      border-radius: 50%;\n",
              "      cursor: pointer;\n",
              "      display: none;\n",
              "      fill: #1967D2;\n",
              "      height: 32px;\n",
              "      padding: 0 0 0 0;\n",
              "      width: 32px;\n",
              "    }\n",
              "\n",
              "    .colab-df-convert:hover {\n",
              "      background-color: #E2EBFA;\n",
              "      box-shadow: 0px 1px 2px rgba(60, 64, 67, 0.3), 0px 1px 3px 1px rgba(60, 64, 67, 0.15);\n",
              "      fill: #174EA6;\n",
              "    }\n",
              "\n",
              "    [theme=dark] .colab-df-convert {\n",
              "      background-color: #3B4455;\n",
              "      fill: #D2E3FC;\n",
              "    }\n",
              "\n",
              "    [theme=dark] .colab-df-convert:hover {\n",
              "      background-color: #434B5C;\n",
              "      box-shadow: 0px 1px 3px 1px rgba(0, 0, 0, 0.15);\n",
              "      filter: drop-shadow(0px 1px 2px rgba(0, 0, 0, 0.3));\n",
              "      fill: #FFFFFF;\n",
              "    }\n",
              "  </style>\n",
              "\n",
              "      <script>\n",
              "        const buttonEl =\n",
              "          document.querySelector('#df-0f5687ea-722f-4964-bf28-0251fd82f612 button.colab-df-convert');\n",
              "        buttonEl.style.display =\n",
              "          google.colab.kernel.accessAllowed ? 'block' : 'none';\n",
              "\n",
              "        async function convertToInteractive(key) {\n",
              "          const element = document.querySelector('#df-0f5687ea-722f-4964-bf28-0251fd82f612');\n",
              "          const dataTable =\n",
              "            await google.colab.kernel.invokeFunction('convertToInteractive',\n",
              "                                                     [key], {});\n",
              "          if (!dataTable) return;\n",
              "\n",
              "          const docLinkHtml = 'Like what you see? Visit the ' +\n",
              "            '<a target=\"_blank\" href=https://colab.research.google.com/notebooks/data_table.ipynb>data table notebook</a>'\n",
              "            + ' to learn more about interactive tables.';\n",
              "          element.innerHTML = '';\n",
              "          dataTable['output_type'] = 'display_data';\n",
              "          await google.colab.output.renderOutput(dataTable, element);\n",
              "          const docLink = document.createElement('div');\n",
              "          docLink.innerHTML = docLinkHtml;\n",
              "          element.appendChild(docLink);\n",
              "        }\n",
              "      </script>\n",
              "    </div>\n",
              "  </div>\n",
              "  "
            ],
            "text/plain": [
              "     show_id     type                                        title director  \\\n",
              "6066   s6067  TV Show  A Young Doctor's Notebook and Other Stories      NaN   \n",
              "6174   s6175  TV Show              Anthony Bourdain: Parts Unknown      NaN   \n",
              "6795   s6796  TV Show                                      Frasier      NaN   \n",
              "6806   s6807  TV Show                                      Friends      NaN   \n",
              "6901   s6902  TV Show                              Gunslinger Girl      NaN   \n",
              "7196   s7197  TV Show                                     Kikoriki      NaN   \n",
              "7254   s7255  TV Show                          La Familia P. Luche      NaN   \n",
              "7406   s7407  TV Show                                        Maron      NaN   \n",
              "7847   s7848  TV Show                                 Red vs. Blue      NaN   \n",
              "8182   s8183  TV Show                 The Adventures of Figaro Pho      NaN   \n",
              "\n",
              "                                                   cast         country  \\\n",
              "6066  Daniel Radcliffe, Jon Hamm, Adam Godley, Chris...  United Kingdom   \n",
              "6174                                   Anthony Bourdain   United States   \n",
              "6795  Kelsey Grammer, Jane Leeves, David Hyde Pierce...   United States   \n",
              "6806  Jennifer Aniston, Courteney Cox, Lisa Kudrow, ...   United States   \n",
              "6901  Yuuka Nanri, Kanako Mitsuhashi, Eri Sendai, Am...           Japan   \n",
              "7196                                      Igor Dmitriev             NaN   \n",
              "7254  Eugenio Derbez, Consuelo Duval, Luis Manuel Áv...   United States   \n",
              "7406  Marc Maron, Judd Hirsch, Josh Brener, Nora Zeh...   United States   \n",
              "7847  Burnie Burns, Jason Saldaña, Gustavo Sorola, G...   United States   \n",
              "8182  Luke Jurevicius, Craig Behenna, Charlotte Haml...       Australia   \n",
              "\n",
              "     date_added  release_year rating    duration  \\\n",
              "6066        NaN          2013  TV-MA   2 Seasons   \n",
              "6174        NaN          2018  TV-PG   5 Seasons   \n",
              "6795        NaN          2003  TV-PG  11 Seasons   \n",
              "6806        NaN          2003  TV-14  10 Seasons   \n",
              "6901        NaN          2008  TV-14   2 Seasons   \n",
              "7196        NaN          2010   TV-Y   2 Seasons   \n",
              "7254        NaN          2012  TV-14   3 Seasons   \n",
              "7406        NaN          2016  TV-MA   4 Seasons   \n",
              "7847        NaN          2015     NR  13 Seasons   \n",
              "8182        NaN          2015  TV-Y7   2 Seasons   \n",
              "\n",
              "                                              listed_in  \\\n",
              "6066           British TV Shows, TV Comedies, TV Dramas   \n",
              "6174                                         Docuseries   \n",
              "6795                     Classic & Cult TV, TV Comedies   \n",
              "6806                     Classic & Cult TV, TV Comedies   \n",
              "6901                       Anime Series, Crime TV Shows   \n",
              "7196                                           Kids' TV   \n",
              "7254  International TV Shows, Spanish-Language TV Sh...   \n",
              "7406                                        TV Comedies   \n",
              "7847  TV Action & Adventure, TV Comedies, TV Sci-Fi ...   \n",
              "8182                              Kids' TV, TV Comedies   \n",
              "\n",
              "                                            description  \n",
              "6066  Set during the Russian Revolution, this comic ...  \n",
              "6174  This CNN original series has chef Anthony Bour...  \n",
              "6795  Frasier Crane is a snooty but lovable Seattle ...  \n",
              "6806  This hit sitcom follows the merry misadventure...  \n",
              "6901  On the surface, the Social Welfare Agency appe...  \n",
              "7196  A wacky rabbit and his gang of animal pals hav...  \n",
              "7254  This irreverent sitcom featues Ludovico, Feder...  \n",
              "7406  Marc Maron stars as Marc Maron, who interviews...  \n",
              "7847  This parody of first-person shooter games, mil...  \n",
              "8182  Imagine your worst fears, then multiply them: ...  "
            ]
          },
          "metadata": {},
          "execution_count": 16
        }
      ]
    },
    {
      "cell_type": "markdown",
      "source": [
        "too valuable to drop everything\n",
        "\n",
        "* A Young Doctor's Notebook and Other Stories : added in 2015 / [article](https://www.whats-on-netflix.com/leaving-soon/bbcs-a-young-doctors-notebook-leaving-netflix-in-december-2019/)\n",
        "* Anthony Bourdain: Parts Unknown\t : added on June 1, 2020 / [article](https://www.highsnobiety.com/p/anthony-bourdain-parts-unknown-netflix/)\n",
        "* Frasier : added in April 2015 / [article](https://www.whats-on-netflix.com/leaving-soon/frasier-is-leaving-netflix-in-december-2019/)\n",
        "* Friends\t: added in 2015 / [article](https://www.cnbc.com/2019/12/31/friends-is-leaving-netflix-wont-be-available-to-stream-until-may.html)\n",
        "* Gunslinger Girl : added in January 2016 / [article](https://en.wikipedia.org/wiki/Gunslinger_Girl)\n",
        "* Kikoriki : added on July 10, 2017 / [article](https://www.facebook.com/TheRikiGroup/posts/kikoriki-on-netflixon-july-10-2017-the-leading-world-distributor-and-content-pro/1088898897878628/)\n",
        "* La Familia P. Luche : can't find the date\n",
        "* Maron\t: added in April 2015 / [article](https://www.whats-on-netflix.com/leaving-soon/maron-seasons-1-4-leaving-netflix-in-january-2020/)\n",
        "* Red vs. Blue : added in 2014 / [article](https://www.whats-on-netflix.com/leaving-soon/red-vs-blue-leaving-netflix-in-january-2020/)\n",
        "* The Adventures of Figaro Pho : added on September 15, 2014 / [article](https://usa.newonnetflix.info/info/80005756)"
      ],
      "metadata": {
        "id": "GM_j0bVWFKz3"
      }
    },
    {
      "cell_type": "code",
      "source": [
        "new_df['date_added'][:1]"
      ],
      "metadata": {
        "colab": {
          "base_uri": "https://localhost:8080/"
        },
        "id": "4drLHBrjDOcw",
        "outputId": "b733b6cb-6151-4b19-888a-7b4bc77ee247"
      },
      "execution_count": 17,
      "outputs": [
        {
          "output_type": "execute_result",
          "data": {
            "text/plain": [
              "0    September 25, 2021\n",
              "Name: date_added, dtype: object"
            ]
          },
          "metadata": {},
          "execution_count": 17
        }
      ]
    },
    {
      "cell_type": "markdown",
      "source": [
        "adding dates\n",
        "* only year info : month - January date - 1\n",
        "* only month and year info : date - 1 <br/>\n",
        "\n",
        "Note: since dates are added manually, only year info will be used"
      ],
      "metadata": {
        "id": "f9FeEIzGWWQx"
      }
    },
    {
      "cell_type": "code",
      "source": [
        "new_df.loc[6066, 'date_added'] = 'January 1, 2015'\n",
        "new_df.loc[6174, 'date_added'] = 'June 1, 2020'\n",
        "new_df.loc[6795, 'date_added'] = 'April 1, 2015'\n",
        "new_df.loc[6806, 'date_added'] = 'January 1, 2015'\n",
        "new_df.loc[6901, 'date_added'] = 'January 1, 2016'\n",
        "new_df.loc[7196, 'date_added'] = 'July 10, 2017'\n",
        "new_df.loc[7406, 'date_added'] = 'April 1, 2015'\n",
        "new_df.loc[7847, 'date_added'] = 'January 1, 2014'\n",
        "new_df.loc[8182, 'date_added'] = 'September 15, 2014'"
      ],
      "metadata": {
        "colab": {
          "base_uri": "https://localhost:8080/"
        },
        "id": "sWHW0DnxEKTo",
        "outputId": "c7c152c8-3743-4767-9084-d1823709a6ed"
      },
      "execution_count": 18,
      "outputs": [
        {
          "output_type": "stream",
          "name": "stderr",
          "text": [
            "/usr/local/lib/python3.7/dist-packages/pandas/core/indexing.py:1817: SettingWithCopyWarning: \n",
            "A value is trying to be set on a copy of a slice from a DataFrame.\n",
            "Try using .loc[row_indexer,col_indexer] = value instead\n",
            "\n",
            "See the caveats in the documentation: https://pandas.pydata.org/pandas-docs/stable/user_guide/indexing.html#returning-a-view-versus-a-copy\n",
            "  self._setitem_single_column(loc, value, pi)\n"
          ]
        }
      ]
    },
    {
      "cell_type": "code",
      "source": [
        "new_df = new_df.dropna(subset=['date_added'])\n",
        "new_df.info()"
      ],
      "metadata": {
        "colab": {
          "base_uri": "https://localhost:8080/"
        },
        "id": "aQCvvZuaXnhU",
        "outputId": "1f59bc53-5a60-4738-f1ca-321620feb95f"
      },
      "execution_count": 19,
      "outputs": [
        {
          "output_type": "stream",
          "name": "stdout",
          "text": [
            "<class 'pandas.core.frame.DataFrame'>\n",
            "Int64Index: 8800 entries, 0 to 8806\n",
            "Data columns (total 12 columns):\n",
            " #   Column        Non-Null Count  Dtype \n",
            "---  ------        --------------  ----- \n",
            " 0   show_id       8800 non-null   object\n",
            " 1   type          8800 non-null   object\n",
            " 2   title         8800 non-null   object\n",
            " 3   director      6170 non-null   object\n",
            " 4   cast          7975 non-null   object\n",
            " 5   country       7970 non-null   object\n",
            " 6   date_added    8800 non-null   object\n",
            " 7   release_year  8800 non-null   int64 \n",
            " 8   rating        8800 non-null   object\n",
            " 9   duration      8800 non-null   object\n",
            " 10  listed_in     8800 non-null   object\n",
            " 11  description   8800 non-null   object\n",
            "dtypes: int64(1), object(11)\n",
            "memory usage: 893.8+ KB\n"
          ]
        }
      ]
    },
    {
      "cell_type": "markdown",
      "source": [
        "### Director"
      ],
      "metadata": {
        "id": "6JFb8Z4TYSMO"
      }
    },
    {
      "cell_type": "code",
      "source": [
        "new_df = new_df.drop(['director'], axis=1)\n",
        "new_df.columns"
      ],
      "metadata": {
        "colab": {
          "base_uri": "https://localhost:8080/"
        },
        "id": "A5tEx6ZjXne_",
        "outputId": "7d5f5f23-5e2a-468e-95ff-9192e9067deb"
      },
      "execution_count": 20,
      "outputs": [
        {
          "output_type": "execute_result",
          "data": {
            "text/plain": [
              "Index(['show_id', 'type', 'title', 'cast', 'country', 'date_added',\n",
              "       'release_year', 'rating', 'duration', 'listed_in', 'description'],\n",
              "      dtype='object')"
            ]
          },
          "metadata": {},
          "execution_count": 20
        }
      ]
    },
    {
      "cell_type": "markdown",
      "source": [
        "### Cast and Country"
      ],
      "metadata": {
        "id": "K3YW7bKGY_b3"
      }
    },
    {
      "cell_type": "code",
      "source": [
        "new_df[new_df['cast'].isna()][:20]"
      ],
      "metadata": {
        "colab": {
          "base_uri": "https://localhost:8080/",
          "height": 1000
        },
        "id": "TRG8vRKvZBn4",
        "outputId": "df323237-e1ab-47c4-9949-ed01b8e5b8c0"
      },
      "execution_count": 21,
      "outputs": [
        {
          "output_type": "execute_result",
          "data": {
            "text/html": [
              "\n",
              "  <div id=\"df-9b883ad1-8b6a-49e5-ade0-a719808a9602\">\n",
              "    <div class=\"colab-df-container\">\n",
              "      <div>\n",
              "<style scoped>\n",
              "    .dataframe tbody tr th:only-of-type {\n",
              "        vertical-align: middle;\n",
              "    }\n",
              "\n",
              "    .dataframe tbody tr th {\n",
              "        vertical-align: top;\n",
              "    }\n",
              "\n",
              "    .dataframe thead th {\n",
              "        text-align: right;\n",
              "    }\n",
              "</style>\n",
              "<table border=\"1\" class=\"dataframe\">\n",
              "  <thead>\n",
              "    <tr style=\"text-align: right;\">\n",
              "      <th></th>\n",
              "      <th>show_id</th>\n",
              "      <th>type</th>\n",
              "      <th>title</th>\n",
              "      <th>cast</th>\n",
              "      <th>country</th>\n",
              "      <th>date_added</th>\n",
              "      <th>release_year</th>\n",
              "      <th>rating</th>\n",
              "      <th>duration</th>\n",
              "      <th>listed_in</th>\n",
              "      <th>description</th>\n",
              "    </tr>\n",
              "  </thead>\n",
              "  <tbody>\n",
              "    <tr>\n",
              "      <th>0</th>\n",
              "      <td>s1</td>\n",
              "      <td>Movie</td>\n",
              "      <td>Dick Johnson Is Dead</td>\n",
              "      <td>NaN</td>\n",
              "      <td>United States</td>\n",
              "      <td>September 25, 2021</td>\n",
              "      <td>2020</td>\n",
              "      <td>PG-13</td>\n",
              "      <td>90 min</td>\n",
              "      <td>Documentaries</td>\n",
              "      <td>As her father nears the end of his life, filmm...</td>\n",
              "    </tr>\n",
              "    <tr>\n",
              "      <th>3</th>\n",
              "      <td>s4</td>\n",
              "      <td>TV Show</td>\n",
              "      <td>Jailbirds New Orleans</td>\n",
              "      <td>NaN</td>\n",
              "      <td>NaN</td>\n",
              "      <td>September 24, 2021</td>\n",
              "      <td>2021</td>\n",
              "      <td>TV-MA</td>\n",
              "      <td>1 Season</td>\n",
              "      <td>Docuseries, Reality TV</td>\n",
              "      <td>Feuds, flirtations and toilet talk go down amo...</td>\n",
              "    </tr>\n",
              "    <tr>\n",
              "      <th>10</th>\n",
              "      <td>s11</td>\n",
              "      <td>TV Show</td>\n",
              "      <td>Vendetta: Truth, Lies and The Mafia</td>\n",
              "      <td>NaN</td>\n",
              "      <td>NaN</td>\n",
              "      <td>September 24, 2021</td>\n",
              "      <td>2021</td>\n",
              "      <td>TV-MA</td>\n",
              "      <td>1 Season</td>\n",
              "      <td>Crime TV Shows, Docuseries, International TV S...</td>\n",
              "      <td>Sicily boasts a bold \"Anti-Mafia\" coalition. B...</td>\n",
              "    </tr>\n",
              "    <tr>\n",
              "      <th>14</th>\n",
              "      <td>s15</td>\n",
              "      <td>TV Show</td>\n",
              "      <td>Crime Stories: India Detectives</td>\n",
              "      <td>NaN</td>\n",
              "      <td>NaN</td>\n",
              "      <td>September 22, 2021</td>\n",
              "      <td>2021</td>\n",
              "      <td>TV-MA</td>\n",
              "      <td>1 Season</td>\n",
              "      <td>British TV Shows, Crime TV Shows, Docuseries</td>\n",
              "      <td>Cameras following Bengaluru police on the job ...</td>\n",
              "    </tr>\n",
              "    <tr>\n",
              "      <th>16</th>\n",
              "      <td>s17</td>\n",
              "      <td>Movie</td>\n",
              "      <td>Europe's Most Dangerous Man: Otto Skorzeny in ...</td>\n",
              "      <td>NaN</td>\n",
              "      <td>NaN</td>\n",
              "      <td>September 22, 2021</td>\n",
              "      <td>2020</td>\n",
              "      <td>TV-MA</td>\n",
              "      <td>67 min</td>\n",
              "      <td>Documentaries, International Movies</td>\n",
              "      <td>Declassified documents reveal the post-WWII li...</td>\n",
              "    </tr>\n",
              "    <tr>\n",
              "      <th>20</th>\n",
              "      <td>s21</td>\n",
              "      <td>TV Show</td>\n",
              "      <td>Monsters Inside: The 24 Faces of Billy Milligan</td>\n",
              "      <td>NaN</td>\n",
              "      <td>NaN</td>\n",
              "      <td>September 22, 2021</td>\n",
              "      <td>2021</td>\n",
              "      <td>TV-14</td>\n",
              "      <td>1 Season</td>\n",
              "      <td>Crime TV Shows, Docuseries, International TV S...</td>\n",
              "      <td>In the late 1970s, an accused serial rapist cl...</td>\n",
              "    </tr>\n",
              "    <tr>\n",
              "      <th>45</th>\n",
              "      <td>s46</td>\n",
              "      <td>Movie</td>\n",
              "      <td>My Heroes Were Cowboys</td>\n",
              "      <td>NaN</td>\n",
              "      <td>NaN</td>\n",
              "      <td>September 16, 2021</td>\n",
              "      <td>2021</td>\n",
              "      <td>PG</td>\n",
              "      <td>23 min</td>\n",
              "      <td>Documentaries</td>\n",
              "      <td>Robin Wiltshire's painful childhood was rescue...</td>\n",
              "    </tr>\n",
              "    <tr>\n",
              "      <th>66</th>\n",
              "      <td>s67</td>\n",
              "      <td>TV Show</td>\n",
              "      <td>Raja Rasoi Aur Anya Kahaniyan</td>\n",
              "      <td>NaN</td>\n",
              "      <td>India</td>\n",
              "      <td>September 15, 2021</td>\n",
              "      <td>2014</td>\n",
              "      <td>TV-G</td>\n",
              "      <td>1 Season</td>\n",
              "      <td>Docuseries, International TV Shows</td>\n",
              "      <td>Explore the history and flavors of regional In...</td>\n",
              "    </tr>\n",
              "    <tr>\n",
              "      <th>69</th>\n",
              "      <td>s70</td>\n",
              "      <td>TV Show</td>\n",
              "      <td>Stories by Rabindranath Tagore</td>\n",
              "      <td>NaN</td>\n",
              "      <td>India</td>\n",
              "      <td>September 15, 2021</td>\n",
              "      <td>2015</td>\n",
              "      <td>TV-PG</td>\n",
              "      <td>1 Season</td>\n",
              "      <td>International TV Shows, TV Dramas</td>\n",
              "      <td>The writings of Nobel Prize winner Rabindranat...</td>\n",
              "    </tr>\n",
              "    <tr>\n",
              "      <th>74</th>\n",
              "      <td>s75</td>\n",
              "      <td>TV Show</td>\n",
              "      <td>The World's Most Amazing Vacation Rentals</td>\n",
              "      <td>NaN</td>\n",
              "      <td>NaN</td>\n",
              "      <td>September 14, 2021</td>\n",
              "      <td>2021</td>\n",
              "      <td>TV-PG</td>\n",
              "      <td>2 Seasons</td>\n",
              "      <td>Reality TV</td>\n",
              "      <td>With an eye for every budget, three travelers ...</td>\n",
              "    </tr>\n",
              "    <tr>\n",
              "      <th>91</th>\n",
              "      <td>s92</td>\n",
              "      <td>Movie</td>\n",
              "      <td>The Women and the Murderer</td>\n",
              "      <td>NaN</td>\n",
              "      <td>France</td>\n",
              "      <td>September 9, 2021</td>\n",
              "      <td>2021</td>\n",
              "      <td>TV-14</td>\n",
              "      <td>92 min</td>\n",
              "      <td>Documentaries, International Movies</td>\n",
              "      <td>This documentary traces the capture of serial ...</td>\n",
              "    </tr>\n",
              "    <tr>\n",
              "      <th>101</th>\n",
              "      <td>s102</td>\n",
              "      <td>Movie</td>\n",
              "      <td>Untold: Breaking Point</td>\n",
              "      <td>NaN</td>\n",
              "      <td>United States</td>\n",
              "      <td>September 7, 2021</td>\n",
              "      <td>2021</td>\n",
              "      <td>TV-MA</td>\n",
              "      <td>80 min</td>\n",
              "      <td>Documentaries, Sports Movies</td>\n",
              "      <td>Under pressure to continue a winning tradition...</td>\n",
              "    </tr>\n",
              "    <tr>\n",
              "      <th>102</th>\n",
              "      <td>s103</td>\n",
              "      <td>TV Show</td>\n",
              "      <td>Countdown: Inspiration4 Mission to Space</td>\n",
              "      <td>NaN</td>\n",
              "      <td>NaN</td>\n",
              "      <td>September 6, 2021</td>\n",
              "      <td>2021</td>\n",
              "      <td>TV-14</td>\n",
              "      <td>1 Season</td>\n",
              "      <td>Docuseries, Science &amp; Nature TV</td>\n",
              "      <td>From training to launch to landing, this all-a...</td>\n",
              "    </tr>\n",
              "    <tr>\n",
              "      <th>110</th>\n",
              "      <td>s111</td>\n",
              "      <td>TV Show</td>\n",
              "      <td>Money Heist: From Tokyo to Berlin</td>\n",
              "      <td>NaN</td>\n",
              "      <td>NaN</td>\n",
              "      <td>September 3, 2021</td>\n",
              "      <td>2021</td>\n",
              "      <td>TV-MA</td>\n",
              "      <td>1 Season</td>\n",
              "      <td>Docuseries, International TV Shows, Spanish-La...</td>\n",
              "      <td>The filmmakers and actors behind \"Money Heist\"...</td>\n",
              "    </tr>\n",
              "    <tr>\n",
              "      <th>117</th>\n",
              "      <td>s118</td>\n",
              "      <td>Movie</td>\n",
              "      <td>Final Account</td>\n",
              "      <td>NaN</td>\n",
              "      <td>United Kingdom, United States</td>\n",
              "      <td>September 2, 2021</td>\n",
              "      <td>2021</td>\n",
              "      <td>PG-13</td>\n",
              "      <td>94 min</td>\n",
              "      <td>Documentaries</td>\n",
              "      <td>This documentary stitches together never-befor...</td>\n",
              "    </tr>\n",
              "    <tr>\n",
              "      <th>123</th>\n",
              "      <td>s124</td>\n",
              "      <td>TV Show</td>\n",
              "      <td>Luv Kushh</td>\n",
              "      <td>NaN</td>\n",
              "      <td>NaN</td>\n",
              "      <td>September 2, 2021</td>\n",
              "      <td>2012</td>\n",
              "      <td>TV-Y7</td>\n",
              "      <td>1 Season</td>\n",
              "      <td>Kids' TV</td>\n",
              "      <td>Based on the last book of the epic Ramayana, t...</td>\n",
              "    </tr>\n",
              "    <tr>\n",
              "      <th>124</th>\n",
              "      <td>s125</td>\n",
              "      <td>TV Show</td>\n",
              "      <td>Pororo - The Little Penguin</td>\n",
              "      <td>NaN</td>\n",
              "      <td>South Korea</td>\n",
              "      <td>September 2, 2021</td>\n",
              "      <td>2013</td>\n",
              "      <td>TV-Y7</td>\n",
              "      <td>3 Seasons</td>\n",
              "      <td>Kids' TV, Korean TV Shows</td>\n",
              "      <td>On a tiny island, Pororo the penguin has fun a...</td>\n",
              "    </tr>\n",
              "    <tr>\n",
              "      <th>147</th>\n",
              "      <td>s148</td>\n",
              "      <td>TV Show</td>\n",
              "      <td>How to Be a Cowboy</td>\n",
              "      <td>NaN</td>\n",
              "      <td>NaN</td>\n",
              "      <td>September 1, 2021</td>\n",
              "      <td>2021</td>\n",
              "      <td>TV-PG</td>\n",
              "      <td>1 Season</td>\n",
              "      <td>Reality TV</td>\n",
              "      <td>Dale Brisby uses social media savvy and rodeo ...</td>\n",
              "    </tr>\n",
              "    <tr>\n",
              "      <th>181</th>\n",
              "      <td>s182</td>\n",
              "      <td>TV Show</td>\n",
              "      <td>Turning Point: 9/11 and the War on Terror</td>\n",
              "      <td>NaN</td>\n",
              "      <td>NaN</td>\n",
              "      <td>September 1, 2021</td>\n",
              "      <td>2021</td>\n",
              "      <td>TV-14</td>\n",
              "      <td>1 Season</td>\n",
              "      <td>Docuseries</td>\n",
              "      <td>This unflinching series documents the 9/11 ter...</td>\n",
              "    </tr>\n",
              "    <tr>\n",
              "      <th>185</th>\n",
              "      <td>s186</td>\n",
              "      <td>Movie</td>\n",
              "      <td>Untold: Crime &amp; Penalties</td>\n",
              "      <td>NaN</td>\n",
              "      <td>NaN</td>\n",
              "      <td>August 31, 2021</td>\n",
              "      <td>2021</td>\n",
              "      <td>TV-MA</td>\n",
              "      <td>86 min</td>\n",
              "      <td>Documentaries, Sports Movies</td>\n",
              "      <td>They were the bad boys of hockey — a team boug...</td>\n",
              "    </tr>\n",
              "  </tbody>\n",
              "</table>\n",
              "</div>\n",
              "      <button class=\"colab-df-convert\" onclick=\"convertToInteractive('df-9b883ad1-8b6a-49e5-ade0-a719808a9602')\"\n",
              "              title=\"Convert this dataframe to an interactive table.\"\n",
              "              style=\"display:none;\">\n",
              "        \n",
              "  <svg xmlns=\"http://www.w3.org/2000/svg\" height=\"24px\"viewBox=\"0 0 24 24\"\n",
              "       width=\"24px\">\n",
              "    <path d=\"M0 0h24v24H0V0z\" fill=\"none\"/>\n",
              "    <path d=\"M18.56 5.44l.94 2.06.94-2.06 2.06-.94-2.06-.94-.94-2.06-.94 2.06-2.06.94zm-11 1L8.5 8.5l.94-2.06 2.06-.94-2.06-.94L8.5 2.5l-.94 2.06-2.06.94zm10 10l.94 2.06.94-2.06 2.06-.94-2.06-.94-.94-2.06-.94 2.06-2.06.94z\"/><path d=\"M17.41 7.96l-1.37-1.37c-.4-.4-.92-.59-1.43-.59-.52 0-1.04.2-1.43.59L10.3 9.45l-7.72 7.72c-.78.78-.78 2.05 0 2.83L4 21.41c.39.39.9.59 1.41.59.51 0 1.02-.2 1.41-.59l7.78-7.78 2.81-2.81c.8-.78.8-2.07 0-2.86zM5.41 20L4 18.59l7.72-7.72 1.47 1.35L5.41 20z\"/>\n",
              "  </svg>\n",
              "      </button>\n",
              "      \n",
              "  <style>\n",
              "    .colab-df-container {\n",
              "      display:flex;\n",
              "      flex-wrap:wrap;\n",
              "      gap: 12px;\n",
              "    }\n",
              "\n",
              "    .colab-df-convert {\n",
              "      background-color: #E8F0FE;\n",
              "      border: none;\n",
              "      border-radius: 50%;\n",
              "      cursor: pointer;\n",
              "      display: none;\n",
              "      fill: #1967D2;\n",
              "      height: 32px;\n",
              "      padding: 0 0 0 0;\n",
              "      width: 32px;\n",
              "    }\n",
              "\n",
              "    .colab-df-convert:hover {\n",
              "      background-color: #E2EBFA;\n",
              "      box-shadow: 0px 1px 2px rgba(60, 64, 67, 0.3), 0px 1px 3px 1px rgba(60, 64, 67, 0.15);\n",
              "      fill: #174EA6;\n",
              "    }\n",
              "\n",
              "    [theme=dark] .colab-df-convert {\n",
              "      background-color: #3B4455;\n",
              "      fill: #D2E3FC;\n",
              "    }\n",
              "\n",
              "    [theme=dark] .colab-df-convert:hover {\n",
              "      background-color: #434B5C;\n",
              "      box-shadow: 0px 1px 3px 1px rgba(0, 0, 0, 0.15);\n",
              "      filter: drop-shadow(0px 1px 2px rgba(0, 0, 0, 0.3));\n",
              "      fill: #FFFFFF;\n",
              "    }\n",
              "  </style>\n",
              "\n",
              "      <script>\n",
              "        const buttonEl =\n",
              "          document.querySelector('#df-9b883ad1-8b6a-49e5-ade0-a719808a9602 button.colab-df-convert');\n",
              "        buttonEl.style.display =\n",
              "          google.colab.kernel.accessAllowed ? 'block' : 'none';\n",
              "\n",
              "        async function convertToInteractive(key) {\n",
              "          const element = document.querySelector('#df-9b883ad1-8b6a-49e5-ade0-a719808a9602');\n",
              "          const dataTable =\n",
              "            await google.colab.kernel.invokeFunction('convertToInteractive',\n",
              "                                                     [key], {});\n",
              "          if (!dataTable) return;\n",
              "\n",
              "          const docLinkHtml = 'Like what you see? Visit the ' +\n",
              "            '<a target=\"_blank\" href=https://colab.research.google.com/notebooks/data_table.ipynb>data table notebook</a>'\n",
              "            + ' to learn more about interactive tables.';\n",
              "          element.innerHTML = '';\n",
              "          dataTable['output_type'] = 'display_data';\n",
              "          await google.colab.output.renderOutput(dataTable, element);\n",
              "          const docLink = document.createElement('div');\n",
              "          docLink.innerHTML = docLinkHtml;\n",
              "          element.appendChild(docLink);\n",
              "        }\n",
              "      </script>\n",
              "    </div>\n",
              "  </div>\n",
              "  "
            ],
            "text/plain": [
              "    show_id     type                                              title cast  \\\n",
              "0        s1    Movie                               Dick Johnson Is Dead  NaN   \n",
              "3        s4  TV Show                              Jailbirds New Orleans  NaN   \n",
              "10      s11  TV Show                Vendetta: Truth, Lies and The Mafia  NaN   \n",
              "14      s15  TV Show                    Crime Stories: India Detectives  NaN   \n",
              "16      s17    Movie  Europe's Most Dangerous Man: Otto Skorzeny in ...  NaN   \n",
              "20      s21  TV Show    Monsters Inside: The 24 Faces of Billy Milligan  NaN   \n",
              "45      s46    Movie                             My Heroes Were Cowboys  NaN   \n",
              "66      s67  TV Show                      Raja Rasoi Aur Anya Kahaniyan  NaN   \n",
              "69      s70  TV Show                     Stories by Rabindranath Tagore  NaN   \n",
              "74      s75  TV Show          The World's Most Amazing Vacation Rentals  NaN   \n",
              "91      s92    Movie                         The Women and the Murderer  NaN   \n",
              "101    s102    Movie                             Untold: Breaking Point  NaN   \n",
              "102    s103  TV Show           Countdown: Inspiration4 Mission to Space  NaN   \n",
              "110    s111  TV Show                  Money Heist: From Tokyo to Berlin  NaN   \n",
              "117    s118    Movie                                      Final Account  NaN   \n",
              "123    s124  TV Show                                          Luv Kushh  NaN   \n",
              "124    s125  TV Show                        Pororo - The Little Penguin  NaN   \n",
              "147    s148  TV Show                                 How to Be a Cowboy  NaN   \n",
              "181    s182  TV Show          Turning Point: 9/11 and the War on Terror  NaN   \n",
              "185    s186    Movie                          Untold: Crime & Penalties  NaN   \n",
              "\n",
              "                           country          date_added  release_year rating  \\\n",
              "0                    United States  September 25, 2021          2020  PG-13   \n",
              "3                              NaN  September 24, 2021          2021  TV-MA   \n",
              "10                             NaN  September 24, 2021          2021  TV-MA   \n",
              "14                             NaN  September 22, 2021          2021  TV-MA   \n",
              "16                             NaN  September 22, 2021          2020  TV-MA   \n",
              "20                             NaN  September 22, 2021          2021  TV-14   \n",
              "45                             NaN  September 16, 2021          2021     PG   \n",
              "66                           India  September 15, 2021          2014   TV-G   \n",
              "69                           India  September 15, 2021          2015  TV-PG   \n",
              "74                             NaN  September 14, 2021          2021  TV-PG   \n",
              "91                          France   September 9, 2021          2021  TV-14   \n",
              "101                  United States   September 7, 2021          2021  TV-MA   \n",
              "102                            NaN   September 6, 2021          2021  TV-14   \n",
              "110                            NaN   September 3, 2021          2021  TV-MA   \n",
              "117  United Kingdom, United States   September 2, 2021          2021  PG-13   \n",
              "123                            NaN   September 2, 2021          2012  TV-Y7   \n",
              "124                    South Korea   September 2, 2021          2013  TV-Y7   \n",
              "147                            NaN   September 1, 2021          2021  TV-PG   \n",
              "181                            NaN   September 1, 2021          2021  TV-14   \n",
              "185                            NaN     August 31, 2021          2021  TV-MA   \n",
              "\n",
              "      duration                                          listed_in  \\\n",
              "0       90 min                                      Documentaries   \n",
              "3     1 Season                             Docuseries, Reality TV   \n",
              "10    1 Season  Crime TV Shows, Docuseries, International TV S...   \n",
              "14    1 Season       British TV Shows, Crime TV Shows, Docuseries   \n",
              "16      67 min                Documentaries, International Movies   \n",
              "20    1 Season  Crime TV Shows, Docuseries, International TV S...   \n",
              "45      23 min                                      Documentaries   \n",
              "66    1 Season                 Docuseries, International TV Shows   \n",
              "69    1 Season                  International TV Shows, TV Dramas   \n",
              "74   2 Seasons                                         Reality TV   \n",
              "91      92 min                Documentaries, International Movies   \n",
              "101     80 min                       Documentaries, Sports Movies   \n",
              "102   1 Season                    Docuseries, Science & Nature TV   \n",
              "110   1 Season  Docuseries, International TV Shows, Spanish-La...   \n",
              "117     94 min                                      Documentaries   \n",
              "123   1 Season                                           Kids' TV   \n",
              "124  3 Seasons                          Kids' TV, Korean TV Shows   \n",
              "147   1 Season                                         Reality TV   \n",
              "181   1 Season                                         Docuseries   \n",
              "185     86 min                       Documentaries, Sports Movies   \n",
              "\n",
              "                                           description  \n",
              "0    As her father nears the end of his life, filmm...  \n",
              "3    Feuds, flirtations and toilet talk go down amo...  \n",
              "10   Sicily boasts a bold \"Anti-Mafia\" coalition. B...  \n",
              "14   Cameras following Bengaluru police on the job ...  \n",
              "16   Declassified documents reveal the post-WWII li...  \n",
              "20   In the late 1970s, an accused serial rapist cl...  \n",
              "45   Robin Wiltshire's painful childhood was rescue...  \n",
              "66   Explore the history and flavors of regional In...  \n",
              "69   The writings of Nobel Prize winner Rabindranat...  \n",
              "74   With an eye for every budget, three travelers ...  \n",
              "91   This documentary traces the capture of serial ...  \n",
              "101  Under pressure to continue a winning tradition...  \n",
              "102  From training to launch to landing, this all-a...  \n",
              "110  The filmmakers and actors behind \"Money Heist\"...  \n",
              "117  This documentary stitches together never-befor...  \n",
              "123  Based on the last book of the epic Ramayana, t...  \n",
              "124  On a tiny island, Pororo the penguin has fun a...  \n",
              "147  Dale Brisby uses social media savvy and rodeo ...  \n",
              "181  This unflinching series documents the 9/11 ter...  \n",
              "185  They were the bad boys of hockey — a team boug...  "
            ]
          },
          "metadata": {},
          "execution_count": 21
        }
      ]
    },
    {
      "cell_type": "markdown",
      "source": [
        "if dropped the rows with missing values, too much data will be lost"
      ],
      "metadata": {
        "id": "xvXwDIV8ayhd"
      }
    },
    {
      "cell_type": "code",
      "source": [
        "test_df = new_df.copy()\n",
        "test_df = test_df.dropna(subset=['cast'])\n",
        "test_df.info()"
      ],
      "metadata": {
        "colab": {
          "base_uri": "https://localhost:8080/"
        },
        "id": "4R7b0G1kZBl3",
        "outputId": "f98f5373-552e-41ec-bff0-7fa8e1711677"
      },
      "execution_count": 23,
      "outputs": [
        {
          "output_type": "stream",
          "name": "stdout",
          "text": [
            "<class 'pandas.core.frame.DataFrame'>\n",
            "Int64Index: 7975 entries, 1 to 8806\n",
            "Data columns (total 11 columns):\n",
            " #   Column        Non-Null Count  Dtype \n",
            "---  ------        --------------  ----- \n",
            " 0   show_id       7975 non-null   object\n",
            " 1   type          7975 non-null   object\n",
            " 2   title         7975 non-null   object\n",
            " 3   cast          7975 non-null   object\n",
            " 4   country       7299 non-null   object\n",
            " 5   date_added    7975 non-null   object\n",
            " 6   release_year  7975 non-null   int64 \n",
            " 7   rating        7975 non-null   object\n",
            " 8   duration      7975 non-null   object\n",
            " 9   listed_in     7975 non-null   object\n",
            " 10  description   7975 non-null   object\n",
            "dtypes: int64(1), object(10)\n",
            "memory usage: 747.7+ KB\n"
          ]
        }
      ]
    },
    {
      "cell_type": "code",
      "source": [
        "test_df = test_df.dropna(subset=['country'])\n",
        "test_df.info()"
      ],
      "metadata": {
        "colab": {
          "base_uri": "https://localhost:8080/"
        },
        "id": "fhvJOqRjaoqt",
        "outputId": "0bb0ed95-1d76-4b5f-b169-955306730c56"
      },
      "execution_count": 24,
      "outputs": [
        {
          "output_type": "stream",
          "name": "stdout",
          "text": [
            "<class 'pandas.core.frame.DataFrame'>\n",
            "Int64Index: 7299 entries, 1 to 8806\n",
            "Data columns (total 11 columns):\n",
            " #   Column        Non-Null Count  Dtype \n",
            "---  ------        --------------  ----- \n",
            " 0   show_id       7299 non-null   object\n",
            " 1   type          7299 non-null   object\n",
            " 2   title         7299 non-null   object\n",
            " 3   cast          7299 non-null   object\n",
            " 4   country       7299 non-null   object\n",
            " 5   date_added    7299 non-null   object\n",
            " 6   release_year  7299 non-null   int64 \n",
            " 7   rating        7299 non-null   object\n",
            " 8   duration      7299 non-null   object\n",
            " 9   listed_in     7299 non-null   object\n",
            " 10  description   7299 non-null   object\n",
            "dtypes: int64(1), object(10)\n",
            "memory usage: 684.3+ KB\n"
          ]
        }
      ]
    },
    {
      "cell_type": "markdown",
      "source": [
        "make different df to use later"
      ],
      "metadata": {
        "id": "Rob1LFBubLSG"
      }
    },
    {
      "cell_type": "markdown",
      "source": [
        "For Cast"
      ],
      "metadata": {
        "id": "e93Gh6qlbrmC"
      }
    },
    {
      "cell_type": "code",
      "source": [
        "cast_df = new_df.copy()\n",
        "cast_df = cast_df.dropna(subset=['cast'])\n",
        "cast_df = cast_df.drop(['country'], axis=1)\n",
        "cast_df.info()"
      ],
      "metadata": {
        "colab": {
          "base_uri": "https://localhost:8080/"
        },
        "id": "yAsxPcqAaoo3",
        "outputId": "abb873f8-3cbf-4c2b-c050-d7fac663ebac"
      },
      "execution_count": 28,
      "outputs": [
        {
          "output_type": "stream",
          "name": "stdout",
          "text": [
            "<class 'pandas.core.frame.DataFrame'>\n",
            "Int64Index: 7975 entries, 1 to 8806\n",
            "Data columns (total 10 columns):\n",
            " #   Column        Non-Null Count  Dtype \n",
            "---  ------        --------------  ----- \n",
            " 0   show_id       7975 non-null   object\n",
            " 1   type          7975 non-null   object\n",
            " 2   title         7975 non-null   object\n",
            " 3   cast          7975 non-null   object\n",
            " 4   date_added    7975 non-null   object\n",
            " 5   release_year  7975 non-null   int64 \n",
            " 6   rating        7975 non-null   object\n",
            " 7   duration      7975 non-null   object\n",
            " 8   listed_in     7975 non-null   object\n",
            " 9   description   7975 non-null   object\n",
            "dtypes: int64(1), object(9)\n",
            "memory usage: 685.4+ KB\n"
          ]
        }
      ]
    },
    {
      "cell_type": "markdown",
      "source": [
        "For Country"
      ],
      "metadata": {
        "id": "_77goU5cbvNt"
      }
    },
    {
      "cell_type": "code",
      "source": [
        "country_df = new_df.copy()\n",
        "country_df = country_df.dropna(subset=['country'])\n",
        "country_df = country_df.drop(['cast'], axis=1)\n",
        "country_df.info()"
      ],
      "metadata": {
        "colab": {
          "base_uri": "https://localhost:8080/"
        },
        "id": "rTz2HBsYaome",
        "outputId": "d12922f4-5534-430f-beba-9bb4247b5c10"
      },
      "execution_count": 29,
      "outputs": [
        {
          "output_type": "stream",
          "name": "stdout",
          "text": [
            "<class 'pandas.core.frame.DataFrame'>\n",
            "Int64Index: 7970 entries, 0 to 8806\n",
            "Data columns (total 10 columns):\n",
            " #   Column        Non-Null Count  Dtype \n",
            "---  ------        --------------  ----- \n",
            " 0   show_id       7970 non-null   object\n",
            " 1   type          7970 non-null   object\n",
            " 2   title         7970 non-null   object\n",
            " 3   country       7970 non-null   object\n",
            " 4   date_added    7970 non-null   object\n",
            " 5   release_year  7970 non-null   int64 \n",
            " 6   rating        7970 non-null   object\n",
            " 7   duration      7970 non-null   object\n",
            " 8   listed_in     7970 non-null   object\n",
            " 9   description   7970 non-null   object\n",
            "dtypes: int64(1), object(9)\n",
            "memory usage: 684.9+ KB\n"
          ]
        }
      ]
    },
    {
      "cell_type": "markdown",
      "source": [
        "Else"
      ],
      "metadata": {
        "id": "I46RYTlXcOuY"
      }
    },
    {
      "cell_type": "code",
      "source": [
        "final_df = new_df.copy()\n",
        "final_df = final_df.drop(['cast', 'country'], axis=1)\n",
        "final_df.info()"
      ],
      "metadata": {
        "colab": {
          "base_uri": "https://localhost:8080/"
        },
        "id": "62dlgcFiaobS",
        "outputId": "34b8dc72-3969-425e-b1b9-e401faa6af62"
      },
      "execution_count": 32,
      "outputs": [
        {
          "output_type": "stream",
          "name": "stdout",
          "text": [
            "<class 'pandas.core.frame.DataFrame'>\n",
            "Int64Index: 8800 entries, 0 to 8806\n",
            "Data columns (total 9 columns):\n",
            " #   Column        Non-Null Count  Dtype \n",
            "---  ------        --------------  ----- \n",
            " 0   show_id       8800 non-null   object\n",
            " 1   type          8800 non-null   object\n",
            " 2   title         8800 non-null   object\n",
            " 3   date_added    8800 non-null   object\n",
            " 4   release_year  8800 non-null   int64 \n",
            " 5   rating        8800 non-null   object\n",
            " 6   duration      8800 non-null   object\n",
            " 7   listed_in     8800 non-null   object\n",
            " 8   description   8800 non-null   object\n",
            "dtypes: int64(1), object(8)\n",
            "memory usage: 687.5+ KB\n"
          ]
        }
      ]
    },
    {
      "cell_type": "markdown",
      "source": [
        "넷플에 contents가 계속 있는게 아니라 일정 시간이 지난 후 넷플에서 없어지기도 함,, 추천해줬는데 실제 넷플에 없으면 속상할 듯"
      ],
      "metadata": {
        "id": "0ACeOUbYI6Q3"
      }
    },
    {
      "cell_type": "code",
      "source": [
        ""
      ],
      "metadata": {
        "id": "iJUXjgdGc_LY"
      },
      "execution_count": null,
      "outputs": []
    }
  ]
}